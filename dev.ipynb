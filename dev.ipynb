{
 "cells": [
  {
   "cell_type": "code",
   "execution_count": 1,
   "metadata": {},
   "outputs": [],
   "source": [
    "%run intro.py"
   ]
  },
  {
   "cell_type": "code",
   "execution_count": 1,
   "metadata": {},
   "outputs": [
    {
     "name": "stdout",
     "output_type": "stream",
     "text": [
      "Mish activation loaded...\n",
      "Mish activation loaded...\n"
     ]
    }
   ],
   "source": [
    "import fastai\n",
    "from fastai.vision import *\n",
    "import torch\n",
    "from data import *\n",
    "from utils import *\n",
    "from fastai.callbacks import *\n",
    "from fastai.utils.mem import *\n",
    "from mish.mxresnet import mxresnet34, mxresnet50\n",
    "\n",
    "# Seed everything\n",
    "seed_value = 42\n",
    "import random \n",
    "random.seed(seed_value) # Python\n",
    "import numpy as np\n",
    "np.random.seed(seed_value) # cpu vars\n",
    "import torch\n",
    "torch.manual_seed(seed_value) # cpu  vars\n",
    "\n",
    "if torch.cuda.is_available(): \n",
    "    torch.cuda.manual_seed(seed_value)\n",
    "    torch.cuda.manual_seed_all(seed_value) # gpu vars\n",
    "    torch.backends.cudnn.deterministic = True  #needed\n",
    "    torch.backends.cudnn.benchmark = False"
   ]
  },
  {
   "cell_type": "code",
   "execution_count": 2,
   "metadata": {},
   "outputs": [],
   "source": [
    "from types import SimpleNamespace"
   ]
  },
  {
   "cell_type": "code",
   "execution_count": 3,
   "metadata": {},
   "outputs": [],
   "source": [
    "args = SimpleNamespace()"
   ]
  },
  {
   "cell_type": "code",
   "execution_count": 20,
   "metadata": {},
   "outputs": [],
   "source": [
    "args.arch = \"resnet34\"\n",
    "args.pretrained = True\n",
    "args.sa_blur = True\n",
    "args.loss = \"feature_loss\"\n",
    "args.epochs= 1\n",
    "args.save_prefix= \"hello\"\n",
    "args.dataset=\"clean\"\n",
    "args.lr = 1e-3"
   ]
  },
  {
   "cell_type": "code",
   "execution_count": 5,
   "metadata": {},
   "outputs": [],
   "source": [
    "# Getting the Architecture:\n",
    "mxr34 = lambda x: mxresnet34()\n",
    "mxr50 = lambda x: mxresnet50()\n",
    "\n",
    "models_dict = dict(resnet34=models.resnet34, resnet50=models.resnet50,\n",
    "                   mxresnet34=mxr34, mxresnet50=mxr50)"
   ]
  },
  {
   "cell_type": "code",
   "execution_count": 6,
   "metadata": {},
   "outputs": [],
   "source": [
    "# Getting the loss function:\n",
    "from feature_loss import FeatureLoss\n",
    "loss_dict = dict(mse=MSELossFlat, feature_loss=FeatureLoss)"
   ]
  },
  {
   "cell_type": "code",
   "execution_count": 7,
   "metadata": {},
   "outputs": [],
   "source": [
    "# Dataset\n",
    "dataset_dict = dict(clean=['Train_Clean', 'Validation_Clean'],\n",
    "                    realworld=['Train_RealWorld', 'Validation_RealWorld'])\n",
    "stats_dict   = dict(clean=clean_stats, realworld=real_stats)\n",
    "\n",
    "DATA = Path('../Data/')\n",
    "PATH_TRAIN = dataset_dict[args.dataset][0]\n",
    "PATH_VALID = dataset_dict[args.dataset][1]\n",
    "norm_stats = stats_dict[args.dataset]\n",
    "tfms = get_transforms(max_warp=0.0)\n",
    "seed = 42\n",
    "\n",
    "data = get_data_new(1, size=\"full\", dataset=\"new\", tfms=tfms, seed=seed,\n",
    "                   folders=[PATH_TRAIN, PATH_VALID], stats=norm_stats)"
   ]
  },
  {
   "cell_type": "code",
   "execution_count": 21,
   "metadata": {},
   "outputs": [],
   "source": [
    "model_func = models_dict[args.arch]\n",
    "loss_func = loss_dict[args.loss]()\n",
    "epochs = int(args.epochs)\n",
    "pretrained = args.pretrained\n",
    "sa_blur = args.sa_blur\n",
    "lr = float(args.lr)"
   ]
  },
  {
   "cell_type": "code",
   "execution_count": 22,
   "metadata": {},
   "outputs": [],
   "source": [
    "from datetime import date\n",
    "today = date.today().__str__()\n",
    "name  = (args.save_prefix + '-' + \n",
    "         today + '-' + \n",
    "         args.arch + '-' + \n",
    "         (\"pretrained\" if args.pretrained else \"\") + '-' + \n",
    "         (\"sa_blur\" if args.sa_blur else \"\")+ '-'  + \n",
    "         args.loss + '-' + \n",
    "         args.dataset + '-' +\n",
    "         str(args.epochs))"
   ]
  },
  {
   "cell_type": "code",
   "execution_count": 23,
   "metadata": {},
   "outputs": [
    {
     "name": "stdout",
     "output_type": "stream",
     "text": [
      "Training run name : hello-2020-04-06-resnet34-pretrained-sa_blur-feature_loss-clean-1\n"
     ]
    }
   ],
   "source": [
    "print(f\"Training run name : {name}\")"
   ]
  },
  {
   "cell_type": "code",
   "execution_count": 24,
   "metadata": {},
   "outputs": [],
   "source": [
    "wd = 1e-3\n",
    "csv_name = \"CSVs/\" + name\n",
    "\n",
    "path = \"/home/ubuntu/competitions/hsi_reconstruction/Paper\"\n",
    "learn = unet_learner(data, model_func, pretrained=pretrained, wd=wd, loss_func=loss_func, \n",
    "                     self_attention=sa_blur, blur=True, norm_type=NormType.Weight,\n",
    "                     callback_fns = [partial(SaveModelCallback, every='improvement', \n",
    "                                             monitor='MRAE', mode='min', name='best'),\n",
    "                                     partial(CSVLogger, \n",
    "                                             filename=csv_name, append=True),],\n",
    "                     metrics=MRAE,\n",
    "                     path=path)\n",
    "\n",
    "learn.unfreeze()\n",
    "gc.collect();"
   ]
  },
  {
   "cell_type": "code",
   "execution_count": 25,
   "metadata": {},
   "outputs": [],
   "source": [
    "def do_fit(save_name, lrs=slice(lr), pct_start=0.3, epochs=None):\n",
    "    learn.fit_one_cycle(epochs, lrs, pct_start=pct_start, div_factor=100)\n",
    "    learn.save(save_name)"
   ]
  },
  {
   "cell_type": "code",
   "execution_count": 26,
   "metadata": {},
   "outputs": [
    {
     "data": {
      "text/html": [
       "<table border=\"1\" class=\"dataframe\">\n",
       "  <thead>\n",
       "    <tr style=\"text-align: left;\">\n",
       "      <th>epoch</th>\n",
       "      <th>train_loss</th>\n",
       "      <th>valid_loss</th>\n",
       "      <th>MRAE</th>\n",
       "      <th>time</th>\n",
       "    </tr>\n",
       "  </thead>\n",
       "  <tbody>\n",
       "    <tr>\n",
       "      <td>0</td>\n",
       "      <td>0.515281</td>\n",
       "      <td>0.726001</td>\n",
       "      <td>0.284803</td>\n",
       "      <td>01:16</td>\n",
       "    </tr>\n",
       "  </tbody>\n",
       "</table>"
      ],
      "text/plain": [
       "<IPython.core.display.HTML object>"
      ]
     },
     "metadata": {},
     "output_type": "display_data"
    },
    {
     "name": "stdout",
     "output_type": "stream",
     "text": [
      "Better model found at epoch 0 with MRAE value: 0.2848031222820282.\n"
     ]
    }
   ],
   "source": [
    "do_fit(name, lrs=slice(lr), epochs=epochs)"
   ]
  },
  {
   "cell_type": "code",
   "execution_count": null,
   "metadata": {},
   "outputs": [],
   "source": []
  }
 ],
 "metadata": {
  "kernelspec": {
   "display_name": "Environment (conda_infra-monitor)",
   "language": "python",
   "name": "conda_infra-monitor"
  },
  "language_info": {
   "codemirror_mode": {
    "name": "ipython",
    "version": 3
   },
   "file_extension": ".py",
   "mimetype": "text/x-python",
   "name": "python",
   "nbconvert_exporter": "python",
   "pygments_lexer": "ipython3",
   "version": "3.7.5"
  }
 },
 "nbformat": 4,
 "nbformat_minor": 2
}
